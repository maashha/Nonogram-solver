{
  "nbformat": 4,
  "nbformat_minor": 0,
  "metadata": {
    "colab": {
      "provenance": [],
      "authorship_tag": "ABX9TyOA+TELpxqXF7y0iquY8SmL",
      "include_colab_link": true
    },
    "kernelspec": {
      "name": "python3",
      "display_name": "Python 3"
    },
    "language_info": {
      "name": "python"
    }
  },
  "cells": [
    {
      "cell_type": "markdown",
      "metadata": {
        "id": "view-in-github",
        "colab_type": "text"
      },
      "source": [
        "<a href=\"https://colab.research.google.com/github/maashha/Nonogram-solver/blob/main/Nonogram_solver.ipynb\" target=\"_parent\"><img src=\"https://colab.research.google.com/assets/colab-badge.svg\" alt=\"Open In Colab\"/></a>"
      ]
    },
    {
      "cell_type": "code",
      "execution_count": 26,
      "metadata": {
        "colab": {
          "base_uri": "https://localhost:8080/"
        },
        "id": "O1YAKcSHhIZ3",
        "outputId": "928ac0e5-e017-4aaa-a67c-718885d3b5c2"
      },
      "outputs": [
        {
          "output_type": "stream",
          "name": "stdout",
          "text": [
            "Requirement already satisfied: pip in /usr/local/lib/python3.10/dist-packages (24.0)\n",
            "\u001b[33mWARNING: Running pip as the 'root' user can result in broken permissions and conflicting behaviour with the system package manager. It is recommended to use a virtual environment instead: https://pip.pypa.io/warnings/venv\u001b[0m\u001b[33m\n",
            "\u001b[0m"
          ]
        }
      ],
      "source": [
        "pip install --upgrade pip"
      ]
    },
    {
      "cell_type": "code",
      "source": [
        "pip install pycosat"
      ],
      "metadata": {
        "colab": {
          "base_uri": "https://localhost:8080/"
        },
        "id": "k4_-8UDUhWdD",
        "outputId": "c704a2f2-5fd0-48c5-f4be-03d4dd3884ce"
      },
      "execution_count": 27,
      "outputs": [
        {
          "output_type": "stream",
          "name": "stdout",
          "text": [
            "Requirement already satisfied: pycosat in /usr/local/lib/python3.10/dist-packages (0.6.6)\n",
            "\u001b[33mWARNING: Running pip as the 'root' user can result in broken permissions and conflicting behaviour with the system package manager. It is recommended to use a virtual environment instead: https://pip.pypa.io/warnings/venv\u001b[0m\u001b[33m\n",
            "\u001b[0m"
          ]
        }
      ]
    },
    {
      "cell_type": "code",
      "source": [
        "import pycosat"
      ],
      "metadata": {
        "id": "LvQkyKaBhdjc"
      },
      "execution_count": 28,
      "outputs": []
    },
    {
      "cell_type": "code",
      "source": [
        "import os"
      ],
      "metadata": {
        "id": "dBMZ0ZTvndLE"
      },
      "execution_count": 29,
      "outputs": []
    },
    {
      "cell_type": "code",
      "source": [
        "import time"
      ],
      "metadata": {
        "id": "Tnc-2GVhnho7"
      },
      "execution_count": 30,
      "outputs": []
    },
    {
      "cell_type": "code",
      "source": [
        "import matplotlib.pyplot as plt\n",
        "from matplotlib.patches import Rectangle"
      ],
      "metadata": {
        "id": "EboEp42tEMxo"
      },
      "execution_count": 31,
      "outputs": []
    },
    {
      "cell_type": "code",
      "source": [
        "def existence(series, length, sizes, number):\n",
        "    final = []\n",
        "    maximum = 0\n",
        "    minimum = -1\n",
        "    non_empty = []\n",
        "    uniqueness = []\n",
        "    for group in range(len(series)):\n",
        "        starting_positions = []\n",
        "        if group!=0:\n",
        "            #move borders on the length of the previous block\n",
        "            left += series[group-1] + 1\n",
        "            right += series[group-1] + 1\n",
        "        else:\n",
        "            left = 0\n",
        "            right = length + 1 - sum(series[0:]) - len(series)\n",
        "        for possible in range(left, right+1):\n",
        "            position = (possible+1)+sizes+length*(number+group)\n",
        "            starting_positions.append(position) #add all possible positions of the first cell of the block to one array\n",
        "            non_empty.append(position)\n",
        "            if maximum<position:\n",
        "                maximum = position\n",
        "            if minimum > position or minimum == -1:\n",
        "                minimum = position\n",
        "            for can in range(possible+1, right+1):\n",
        "                uniqueness.append([-position, -((can+1)+sizes+length*(number+group))]) #exclude situations where one block has two starting cells\n",
        "        final.append(starting_positions) #all of such starting_positions for one row or column\n",
        "    return [final, uniqueness, maximum, minimum, non_empty]"
      ],
      "metadata": {
        "id": "ZJ3kyRnXhgYL"
      },
      "execution_count": 32,
      "outputs": []
    },
    {
      "cell_type": "code",
      "source": [
        "def intersection(sets, lengths, amount):\n",
        "    intersect = []\n",
        "    for section_1 in range(len(sets)):\n",
        "        for section_2 in range(section_1+1, len(sets)): #choose two sets of starting positions of the blocks\n",
        "            for first in range(len(sets[section_1])):\n",
        "                for second in range(len(sets[section_2])): #add elements of the first array in pairs with elements of the second, excluding their intersection\n",
        "                    if abs((sets[section_1][first]) - (sets[section_2][second])) % amount < sum(lengths[section_1:section_2]) + (section_2-section_1) and abs((sets[section_1][first]) - (sets[section_2][second]))>=amount:\n",
        "                        intersect.append([-(sets[section_1][first]), -(sets[section_2][second])])\n",
        "                        if first>=3:\n",
        "                            intersect.append([-(sets[section_1][first]), -(sets[section_2][first-3])])\n",
        "    return intersect"
      ],
      "metadata": {
        "id": "F9GXwyKGhi3m"
      },
      "execution_count": 33,
      "outputs": []
    },
    {
      "cell_type": "code",
      "source": [
        "def cell_rows(mx, size, lenn, start, mn, something, liine,pr):\n",
        "    all_cells = []\n",
        "    no = []\n",
        "    empty = []\n",
        "    se = []\n",
        "    y = {}\n",
        "    for i in range(start+1, start+lenn+1):\n",
        "        cells = [-i]\n",
        "        if i%lenn!=0:\n",
        "            for j in range(mn+i%lenn-1, mx+1, lenn):\n",
        "                if j not in no and j not in something:\n",
        "                    no.append([-j])\n",
        "                else:\n",
        "                    cells.append(j)\n",
        "                    for n in range(i, i+liine[(j-pr)//lenn]):\n",
        "                        se.append([-j,n])\n",
        "                        if n in y.keys():\n",
        "                            y[n].append(j)\n",
        "                        else:\n",
        "                            y[n] = [-n,j]\n",
        "                    empty.append([i,-j])\n",
        "        else:\n",
        "            for j in range(mn+lenn-1, mx+1, lenn):\n",
        "                if j not in no and j not in something:\n",
        "                    no.append([-j])\n",
        "                else:\n",
        "                    cells.append(j)\n",
        "                    for n in range(i, i+liine[(j-pr)//lenn-1]):\n",
        "                        se.append([-j,n])\n",
        "                        if n in y.keys():\n",
        "                            y[n].append(j)\n",
        "                        else:\n",
        "                            y[n] = [-n,j]\n",
        "                    empty.append([i,-j])\n",
        "        all_cells.append(cells)\n",
        "        all_cells = []\n",
        "    return [se, empty, no,y]"
      ],
      "metadata": {
        "id": "fm45n-9Thl8C"
      },
      "execution_count": 34,
      "outputs": []
    },
    {
      "cell_type": "code",
      "source": [
        "def cell_columns(mx, size, lenn, start, mn, something, amoun, nuum, liine,pr):\n",
        "    all_cells = []\n",
        "    no = []\n",
        "    empty = []\n",
        "    se = []\n",
        "    yw = {}\n",
        "    for i in range(start+1, start+lenn+1):\n",
        "        yw[((i-1)%lenn)*amoun+(i-1)//lenn+1] = [-(((i-1)%lenn)*amoun+(i-1)//lenn+1)]\n",
        "    for i in range(start+1, start+lenn+1):\n",
        "        cells = [-(((i-1)%lenn)*amoun+(i-1)//lenn+1)]\n",
        "        if i%lenn!=0:\n",
        "            for j in range(mn+i%lenn-1, mx+1, lenn):\n",
        "                if j not in no and j not in something:\n",
        "                    no.append([-j])\n",
        "                else:\n",
        "                    cells.append(j)\n",
        "                    for n in range(i, i+liine[(j-pr)//lenn]):\n",
        "                        se.append([-j,((n-1)%lenn)*amoun+(n-1)//lenn+1])\n",
        "                        yw[((n-1)%lenn)*amoun+(n-1)//lenn+1].append(j)\n",
        "                    empty.append([((i-1)%lenn)*amoun+(i-1)//lenn+1,-j])\n",
        "        else:\n",
        "            for j in range(mn+lenn-1, mx+1, lenn):\n",
        "                if j not in no and j not in something:\n",
        "                    no.append([-j])\n",
        "                else:\n",
        "                    cells.append(j)\n",
        "                    for n in range(i, i+liine[(j-pr)//lenn-1]):\n",
        "                        se.append([-j,((n-1)%lenn)*amoun+(n-1)//lenn+1])\n",
        "                        yw[((n-1)%lenn)*amoun+(n-1)//lenn+1].append(j)\n",
        "                    empty.append([((i-1)%lenn)*amoun+(i-1)//lenn+1,-j])\n",
        "        all_cells.append(cells)\n",
        "    return [se, empty, no, yw]"
      ],
      "metadata": {
        "id": "XkagoHrchoO6"
      },
      "execution_count": 35,
      "outputs": []
    },
    {
      "cell_type": "code",
      "source": [
        "class Nonogram:\n",
        "  def load_from_file(self,file_name):\n",
        "    line_number = 0\n",
        "    self.rows = 0\n",
        "    self.columns = 0\n",
        "    self.all_rows = [] #the array of all blocks of filled cells in ROWS\n",
        "    self.all_columns = [] #the array of all blocks of filled cells in COLUMNS\n",
        "    if os.path.isfile(file_name):\n",
        "      with open(file_name, \"r\") as file:\n",
        "        for line in file:\n",
        "          line_number += 1\n",
        "          if line_number == 1:\n",
        "            self.rows = int(line.split(\" \")[0])\n",
        "            self.columns = int(line.split(\" \")[1])\n",
        "          elif line_number <= 1 + self.rows:\n",
        "              self.all_rows.append(list(map(int, line.split())))\n",
        "          else:\n",
        "              self.all_columns.append(list(map(int, line.split())))\n",
        "  def solve(self):\n",
        "    solutions = []\n",
        "    previous = 0\n",
        "    lennn = []\n",
        "    max_num = self.rows*self.columns\n",
        "    everything = []\n",
        "    for i in range(self.rows):\n",
        "        blocks = self.all_rows[i] #all filled in cells in the ith row\n",
        "        if max_num%self.columns==0:\n",
        "            ma = max_num\n",
        "        else:\n",
        "            ma = max_num + (self.columns-max_num%self.columns)\n",
        "        if blocks==[0]: #case of the empty row\n",
        "            for empty in range(i*self.columns+1, (i+1)*self.columns+1):\n",
        "                solutions.append([-empty])\n",
        "            continue\n",
        "        all_starts = existence(blocks, self.columns, self.rows*self.columns, previous)\n",
        "        exist  = all_starts[0] #array of all possible starting possitions of the blocks\n",
        "        unique_start  = all_starts[1] #exclusion of two starts at the same time\n",
        "        max_num = all_starts[2]\n",
        "        min_num = all_starts[3]\n",
        "        color = all_starts[4]\n",
        "        for j in exist:\n",
        "            solutions.append(j)\n",
        "        for j in unique_start:\n",
        "            solutions.append(j)\n",
        "        for j in intersection(exist, blocks, self.columns):\n",
        "            solutions.append(j)\n",
        "        get = cell_rows(max_num, self.columns*self.rows, self.columns, i*self.columns, min_num, color, blocks,ma)\n",
        "        colored = get[0]\n",
        "        emptys = get[1]\n",
        "        nothing  = get[2]\n",
        "        d = get[3]\n",
        "        for j in emptys:\n",
        "            solutions.append(j)\n",
        "        for j in colored:\n",
        "            solutions.append(j)\n",
        "        for j in nothing:\n",
        "            solutions.append(j)\n",
        "        for j in d:\n",
        "            solutions.append(d[j])\n",
        "        previous += len(blocks)\n",
        "    previous = 0\n",
        "    for column in range(self.columns):\n",
        "        blocks = self.all_columns[column]\n",
        "        got = existence(blocks, self.rows, self.rows*self.columns, previous)\n",
        "        if column==0:\n",
        "            if max_num%self.columns==0:\n",
        "                mm = max_num\n",
        "            else:\n",
        "                mm = max_num + (self.columns-max_num%self.columns)\n",
        "            att = mm-self.columns*self.rows\n",
        "        if (max_num-att)%self.rows==0:\n",
        "                mm = max_num\n",
        "        else:\n",
        "            mm = max_num + (self.rows-(max_num-att)%self.rows)\n",
        "        if blocks==[0]:\n",
        "            for h in range(column*self.rows+1, column*self.rows+self.rows+1):\n",
        "                solutions.append([-(((h-1)%self.rows)*self.columns+(h-1)//self.rows+1)])\n",
        "            continue\n",
        "        sol_1 = []\n",
        "        sol_2 = []\n",
        "        solution_1  = got[0]\n",
        "        solution_2  = got[1]\n",
        "        for i in solution_1:\n",
        "            solution_1_1 = []\n",
        "            for j in i:\n",
        "                solution_1_1.append(j+att)\n",
        "            sol_1.append(solution_1_1)\n",
        "        for i in solution_2:\n",
        "            solution_2_1 = []\n",
        "            for j in i:\n",
        "                solution_2_1.append(-(j*(-1)+att))\n",
        "            sol_2.append(solution_2_1)\n",
        "        solution_1  = sol_1.copy()\n",
        "        solution_2  = sol_2.copy()\n",
        "        max_num = got[2]+att\n",
        "        min_num = got[3]+att\n",
        "        color = got[4]\n",
        "        colll = []\n",
        "        for i in color:\n",
        "            colll.append(i+att)\n",
        "        color = colll.copy()\n",
        "        for j in solution_1:\n",
        "            solutions.append(j)\n",
        "        for j in solution_2:\n",
        "            solutions.append(j)\n",
        "        for j in intersection(solution_1, blocks, self.rows):\n",
        "            solutions.append(j)\n",
        "        get = cell_columns(max_num, self.columns*self.rows, self.rows, column*self.rows, min_num, color, self.columns,column, blocks, mm)\n",
        "        colored = get[0]\n",
        "        emptys = get[1]\n",
        "        nothing  = get[2]\n",
        "        nj = get[3]\n",
        "        for j in emptys:\n",
        "            solutions.append(j)\n",
        "        for j in colored:\n",
        "            solutions.append(j)\n",
        "        for j in nothing:\n",
        "            solutions.append(j)\n",
        "        for j in nj:\n",
        "            solutions.append(nj[j])\n",
        "        previous += len(blocks)\n",
        "    self.solved = pycosat.solve(solutions)\n",
        "  def draw(self):\n",
        "    fig, ax = plt.subplots()\n",
        "    ax.plot()\n",
        "    if self.solved!='UNSAT':\n",
        "      for i in range(self.rows*self.columns):\n",
        "        if i%self.columns==(self.columns-1):\n",
        "          if self.solved[i]>=0:\n",
        "            ax.add_patch(Rectangle((i%self.columns,self.rows-i//self.columns), 1, 1))\n",
        "        else:\n",
        "          if self.solved[i]>=0:\n",
        "            ax.add_patch(Rectangle((i%self.columns,self.rows-i//self.columns), 1, 1))\n",
        "    plt.show()\n",
        "my_object = Nonogram()\n",
        "my_object.load_from_file('test3.txt')\n",
        "my_object.solve()\n",
        "my_object.draw()"
      ],
      "metadata": {
        "id": "5Z3Ecod7c-om",
        "outputId": "17cb7889-4b82-401a-eca7-c30fad399491",
        "colab": {
          "base_uri": "https://localhost:8080/",
          "height": 430
        }
      },
      "execution_count": 42,
      "outputs": [
        {
          "output_type": "display_data",
          "data": {
            "text/plain": [
              "<Figure size 640x480 with 1 Axes>"
            ],
            "image/png": "[encoded data removed]"
          },
          "metadata": {}
        }
      ]
    }
  ]
}