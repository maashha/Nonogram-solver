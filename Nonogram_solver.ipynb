{
 "nbformat": 4,
 "nbformat_minor": 0,
 "metadata": {
  "colab": {
   "provenance": [],
   "authorship_tag": "ABX9TyO8AMN9+DH2jIr5GYLJU6Gw",
   "include_colab_link": true
  },
  "kernelspec": {
   "name": "python3",
   "display_name": "Python 3"
  },
  "language_info": {
   "name": "python"
  }
 },
 "cells": [
  {
   "cell_type": "markdown",
   "metadata": {
    "id": "view-in-github",
    "colab_type": "text"
   },
   "source": [
    "<a href=\"https://colab.research.google.com/github/maashha/Nonogram-solver/blob/main/Nonogram_solver.ipynb\" target=\"_parent\"><img src=\"https://colab.research.google.com/assets/colab-badge.svg\" alt=\"Open In Colab\"/></a>"
   ]
  },
  {
   "cell_type": "code",
   "execution_count": null,
   "metadata": {
    "colab": {
     "base_uri": "https://localhost:8080/"
    },
    "id": "O1YAKcSHhIZ3",
    "outputId": "32dc1015-db43-42eb-f640-ecbf2754c8b2"
   },
   "outputs": [
    {
     "output_type": "stream",
     "name": "stdout",
     "text": [
      "Requirement already satisfied: pip in /usr/local/lib/python3.10/dist-packages (24.0)\n",
      "\u001B[33mWARNING: Running pip as the 'root' user can result in broken permissions and conflicting behaviour with the system package manager. It is recommended to use a virtual environment instead: https://pip.pypa.io/warnings/venv\u001B[0m\u001B[33m\n",
      "\u001B[0m"
     ]
    }
   ],
   "source": [
    "pip install --upgrade pip"
   ]
  },
  {
   "cell_type": "code",
   "source": [
    "pip install pycosat"
   ],
   "metadata": {
    "colab": {
     "base_uri": "https://localhost:8080/"
    },
    "id": "3w68NuhWgZVh",
    "outputId": "dc132aaf-843c-4ec7-f2eb-67c8bb6bfd45"
   },
   "execution_count": 2,
   "outputs": [
    {
     "output_type": "stream",
     "name": "stdout",
     "text": [
      "Collecting pycosat\n",
      "  Downloading pycosat-0.6.6.tar.gz (71 kB)\n",
      "\u001B[?25l     \u001B[90m━━━━━━━━━━━━━━━━━━━━━━━━━━━━━━━━━━━━━━━━\u001B[0m \u001B[32m0.0/71.6 kB\u001B[0m \u001B[31m?\u001B[0m eta \u001B[36m-:--:--\u001B[0m\r\u001B[2K     \u001B[90m━━━━━━━━━━━━━━━━━━━━━━━━━━━━━━━━━━━━━━━━\u001B[0m \u001B[32m71.6/71.6 kB\u001B[0m \u001B[31m2.4 MB/s\u001B[0m eta \u001B[36m0:00:00\u001B[0m\n",
      "\u001B[?25h  Preparing metadata (setup.py) ... \u001B[?25l\u001B[?25hdone\n",
      "Building wheels for collected packages: pycosat\n",
      "  Building wheel for pycosat (setup.py) ... \u001B[?25l\u001B[?25hdone\n",
      "  Created wheel for pycosat: filename=pycosat-0.6.6-cp310-cp310-linux_x86_64.whl size=169339 sha256=a3d92e403aef8799471e7dc57bf9ec3c37d5297be9983fdca26fe819edeb7b45\n",
      "  Stored in directory: /root/.cache/pip/wheels/63/29/df/b8c22ca5812e2d7b342269a53add280b5bad42a540f34c3dc1\n",
      "Successfully built pycosat\n",
      "Installing collected packages: pycosat\n",
      "Successfully installed pycosat-0.6.6\n"
     ]
    }
   ]
  },
  {
   "cell_type": "code",
   "source": [
    "from Nonogram_project import NonogramSolver"
   ],
   "metadata": {
    "id": "u7rM-6k74HZa"
   },
   "execution_count": 3,
   "outputs": []
  },
  {
   "cell_type": "code",
   "source": [
    "solver = NonogramSolver()\n",
    "solver.load_from_file('tests/large_tests/large_test_1.txt')\n",
    "solver.solve()\n",
    "solver.draw()"
   ],
   "metadata": {
    "id": "kqtZTuFl4sks",
    "outputId": "c96b9f24-7fc4-4d16-d417-4038e495768d",
    "colab": {
     "base_uri": "https://localhost:8080/",
     "height": 430
    }
   },
   "execution_count": 4,
   "outputs": [
    {
     "output_type": "display_data",
     "data": {
      "text/plain": [
       "<Figure size 640x480 with 1 Axes>"
      ],
      "image/png": "[encoded data removed]"
     },
     "metadata": {}
    }
   ]
  }
 ]
}
